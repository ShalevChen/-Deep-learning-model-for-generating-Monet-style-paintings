{
  "nbformat": 4,
  "nbformat_minor": 0,
  "metadata": {
    "colab": {
      "provenance": [],
      "machine_shape": "hm",
      "gpuType": "V28"
    },
    "kernelspec": {
      "name": "python3",
      "display_name": "Python 3"
    },
    "language_info": {
      "name": "python"
    },
    "accelerator": "TPU"
  },
  "cells": [
    {
      "cell_type": "markdown",
      "source": [
        "#Test Notebook - I'm Something Of a Painter Myself"
      ],
      "metadata": {
        "id": "4hnQN8JcCOqB"
      }
    },
    {
      "cell_type": "markdown",
      "source": [
        "Tal Teri: 319123543\n",
        "\n",
        "Yehuda Daniel: 211789680\n",
        "\n",
        "Chen Shalev: 313584906\n",
        "\n",
        "Ilan Brilovich: 322525072\n",
        "\n",
        "Lin Tibi: 318232139"
      ],
      "metadata": {
        "id": "D2m-YuwvCYV_"
      }
    },
    {
      "cell_type": "markdown",
      "source": [
        "##Test Environment"
      ],
      "metadata": {
        "id": "Rj0Ig08LCgE3"
      }
    },
    {
      "cell_type": "code",
      "source": [
        "import gdown\n",
        "\n",
        "# Define URLs and filenames for both models\n",
        "urls = [\n",
        "    'https://drive.google.com/file/d/1ymUmPzICsvReBktrT-joQkaVOe4LEEh5/view?usp=sharing',\n",
        "    'https://drive.google.com/file/d/1R-NAPYAgXg6TolZlPDj99HfgP2kFGmdV/view?usp=sharing'\n",
        "]\n",
        "filenames = ['photoGen.keras', 'monetGen.keras']\n",
        "\n",
        "# Loop through URLs and download each file\n",
        "for url, filename in zip(urls, filenames):\n",
        "  # Extract file ID from the URL\n",
        "  file_id = url.split('/')[-2]\n",
        "\n",
        "  # Construct the new direct download link\n",
        "  new_download_url = f'https://drive.google.com/uc?id={file_id}'\n",
        "\n",
        "  # Downloading the file with progress indication\n",
        "  print(f\"Downloading {filename}...\")\n",
        "  gdown.download(new_download_url, filename, quiet=False)\n",
        "  print(f\"{filename} downloaded successfully!\")"
      ],
      "metadata": {
        "id": "rBT2CEKJCOPX",
        "colab": {
          "base_uri": "https://localhost:8080/"
        },
        "outputId": "aaaca90c-f90e-4d09-f6e9-cc4bebb4dfee"
      },
      "execution_count": null,
      "outputs": [
        {
          "output_type": "stream",
          "name": "stdout",
          "text": [
            "Downloading photoGen.keras...\n"
          ]
        },
        {
          "output_type": "stream",
          "name": "stderr",
          "text": [
            "Downloading...\n",
            "From (original): https://drive.google.com/uc?id=1ymUmPzICsvReBktrT-joQkaVOe4LEEh5\n",
            "From (redirected): https://drive.google.com/uc?id=1ymUmPzICsvReBktrT-joQkaVOe4LEEh5&confirm=t&uuid=a5a2e14f-08b2-4677-b0c4-0dcdd7adf500\n",
            "To: /content/photoGen.keras\n",
            "100%|██████████| 73.2M/73.2M [00:02<00:00, 25.4MB/s]\n"
          ]
        },
        {
          "output_type": "stream",
          "name": "stdout",
          "text": [
            "photoGen.keras downloaded successfully!\n",
            "Downloading monetGen.keras...\n"
          ]
        },
        {
          "output_type": "stream",
          "name": "stderr",
          "text": [
            "Downloading...\n",
            "From (original): https://drive.google.com/uc?id=1R-NAPYAgXg6TolZlPDj99HfgP2kFGmdV\n",
            "From (redirected): https://drive.google.com/uc?id=1R-NAPYAgXg6TolZlPDj99HfgP2kFGmdV&confirm=t&uuid=2224383e-398e-4879-a512-244bfdbe193c\n",
            "To: /content/monetGen.keras\n",
            "100%|██████████| 73.2M/73.2M [00:02<00:00, 29.2MB/s]"
          ]
        },
        {
          "output_type": "stream",
          "name": "stdout",
          "text": [
            "monetGen.keras downloaded successfully!\n"
          ]
        },
        {
          "output_type": "stream",
          "name": "stderr",
          "text": [
            "\n"
          ]
        }
      ]
    },
    {
      "cell_type": "code",
      "source": [
        "from tensorflow import keras\n",
        "from PIL import Image\n",
        "import numpy as np\n",
        "import tensorflow as tf\n",
        "from tensorflow.keras.models import load_model\n",
        "from google.colab import files  # For uploading files in Colab\n",
        "import cv2\n",
        "import matplotlib.pyplot as plt\n",
        "\n",
        "# Load the photo and Monet generators\n",
        "photo_generator = load_model('/content/photoGen.keras')\n",
        "monet_generator = load_model('/content/monetGen.keras')\n",
        "\n",
        "# Function to preprocess the uploaded image\n",
        "def preprocess_image(img):\n",
        "    img = cv2.cvtColor(img, cv2.COLOR_BGR2RGB)  # Convert BGR to RGB\n",
        "    img = cv2.resize(img, (256, 256))  # Resize to 256x256\n",
        "    img = img / 127.5 - 1  # Normalize to [-1, 1]\n",
        "    return img\n",
        "\n",
        "# Function to postprocess the generated image\n",
        "def postprocess_image(img):\n",
        "    img = 0.5 * img + 0.5  # Rescale to [0, 1]\n",
        "    return img\n",
        "\n",
        "# Function to test the CycleGAN model (using separate generators)\n",
        "def test_cycle_gan(image):\n",
        "    # Preprocess the uploaded image\n",
        "    input_image = preprocess_image(image)\n",
        "\n",
        "    # Print the shape of the preprocessed image\n",
        "    print(\"Shape of preprocessed image:\", input_image.shape)\n",
        "\n",
        "    # Remove the extra dimension introduced by tf.expand_dims\n",
        "    input_image = input_image[np.newaxis, ...]\n",
        "\n",
        "    # Generate monet photo\n",
        "    generated_image = monet_generator(input_image, training=False)[0]\n",
        "\n",
        "    # Generate cycled photo using both generators\n",
        "    cycled_image = photo_generator(monet_generator(input_image, training=False), training=False)[0]\n",
        "\n",
        "    # Postprocess the generated images\n",
        "    input_image = postprocess_image(input_image[0])\n",
        "    generated_image = postprocess_image(generated_image)\n",
        "    cycled_image = postprocess_image(cycled_image)\n",
        "\n",
        "    # Plot the original, generated, and cycled images\n",
        "    plt.figure(figsize=(12, 4))\n",
        "    plt.subplot(1, 3, 1)\n",
        "    plt.title(\"Original Photo\")\n",
        "    plt.imshow(input_image)\n",
        "    plt.axis('off')\n",
        "\n",
        "    plt.subplot(1, 3, 2)\n",
        "    plt.title(\"Monet-style Photo\")\n",
        "    plt.imshow(generated_image)\n",
        "    plt.axis('off')\n",
        "\n",
        "    plt.subplot(1, 3, 3)\n",
        "    plt.title(\"Cycled Photo\")\n",
        "    plt.imshow(cycled_image)\n",
        "    plt.axis('off')\n",
        "\n",
        "    plt.show()\n",
        "\n",
        "\n",
        "def upload_image():\n",
        "    uploaded = files.upload()  # Upload file using Colab's uploader\n",
        "    for filename, content in uploaded.items():\n",
        "        # Check for valid image extension (optional)\n",
        "        if not filename.lower().endswith(('.jpg', '.jpeg', '.png')):\n",
        "            print(f\"Error: Unsupported image format. Please upload a JPG, JPEG, or PNG file.\")\n",
        "            return\n",
        "\n",
        "        # Process the uploaded image content\n",
        "        img = np.frombuffer(content, np.uint8)\n",
        "\n",
        "        # Decode the image using OpenCV (assuming JPG)\n",
        "        img = cv2.imdecode(img, cv2.IMREAD_COLOR)\n",
        "        if img is None:\n",
        "            print(f\"Error: Failed to decode image. Please check if the file is corrupted.\")\n",
        "            return\n",
        "\n",
        "        test_cycle_gan(img)\n",
        "        return\n",
        "\n",
        "# Call the upload function\n",
        "upload_image()"
      ],
      "metadata": {
        "id": "ioJ8ig7jjaZb"
      },
      "execution_count": null,
      "outputs": []
    }
  ]
}